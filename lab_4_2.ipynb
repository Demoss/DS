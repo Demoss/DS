{
  "nbformat": 4,
  "nbformat_minor": 0,
  "metadata": {
    "colab": {
      "provenance": []
    },
    "kernelspec": {
      "name": "python3",
      "display_name": "Python 3"
    },
    "language_info": {
      "name": "python"
    }
  },
  "cells": [
    {
      "cell_type": "code",
      "execution_count": 2,
      "metadata": {
        "id": "KBq9kG7NAbgc"
      },
      "outputs": [],
      "source": [
        "import pathlib\n",
        "import random\n",
        "import string\n",
        "import re\n",
        "import numpy as np\n",
        "import tensorflow as tf\n",
        "from tensorflow import keras\n",
        "from tensorflow.keras import layers\n",
        "from tensorflow.keras.layers import TextVectorization"
      ]
    },
    {
      "cell_type": "code",
      "source": [
        "!unzip chv-eng.zip"
      ],
      "metadata": {
        "colab": {
          "base_uri": "https://localhost:8080/"
        },
        "id": "FCPTs97xFV9c",
        "outputId": "27886efb-3751-417f-e403-076f6c316842"
      },
      "execution_count": 6,
      "outputs": [
        {
          "output_type": "stream",
          "name": "stdout",
          "text": [
            "Archive:  chv-eng.zip\n",
            "  inflating: _about.txt              \n",
            "  inflating: chv.txt                 \n"
          ]
        }
      ]
    },
    {
      "cell_type": "code",
      "source": [
        "with open('./chv.txt') as f:\n",
        "    lines = f.read().split(\"\\n\")[:-1]\n",
        "text_pairs = []\n",
        "for line in lines:\n",
        "    eng, chv,_ = line.split(\"\\t\")\n",
        "    chv = \"[start] \" + chv + \" [end]\"\n",
        "    text_pairs.append((eng, chv))"
      ],
      "metadata": {
        "id": "qdD2ReyQFYXp"
      },
      "execution_count": 7,
      "outputs": []
    },
    {
      "cell_type": "code",
      "source": [
        "for _ in range(5):\n",
        "    print(random.choice(text_pairs))"
      ],
      "metadata": {
        "colab": {
          "base_uri": "https://localhost:8080/"
        },
        "id": "IJfKYOz03MjZ",
        "outputId": "e033baee-1f3b-42d0-c383-41a8bccd9109"
      },
      "execution_count": 8,
      "outputs": [
        {
          "output_type": "stream",
          "name": "stdout",
          "text": [
            "('What do you do?', '[start] Мӗн тӑватӑн? [end]')\n",
            "('I want to go back to my cubicle.', '[start] Эпӗ хамӑн пӳлӗме таврӑнасшӑн. [end]')\n",
            "(\"He said that he didn't know.\", '[start] Вӑл хӑй пӗлменни пирки тесе каларӗ. [end]')\n",
            "(\"You're the only person that can persuade him.\", '[start] Уна ӳкетлеме пултаракан ҫын эс кӑна. [end]')\n",
            "('Inhaling diesel exhaust is bad for our health.', '[start] Дисӗл каяшӗсемпе сывлама сывлӑхшӑн сиенлӗ. [end]')\n"
          ]
        }
      ]
    },
    {
      "cell_type": "code",
      "source": [
        "random.shuffle(text_pairs)\n",
        "num_val_samples = int(0.15 * len(text_pairs))\n",
        "num_train_samples = len(text_pairs) - 2 * num_val_samples\n",
        "train_pairs = text_pairs[:num_train_samples]\n",
        "val_pairs = text_pairs[num_train_samples : num_train_samples + num_val_samples]\n",
        "test_pairs = text_pairs[num_train_samples + num_val_samples :]\n",
        "\n",
        "print(f\"{len(text_pairs)} total pairs\")\n",
        "print(f\"{len(train_pairs)} training pairs\")\n",
        "print(f\"{len(val_pairs)} validation pairs\")\n",
        "print(f\"{len(test_pairs)} test pairs\")"
      ],
      "metadata": {
        "colab": {
          "base_uri": "https://localhost:8080/"
        },
        "id": "inQGID7jFa13",
        "outputId": "694a76e0-9729-47b2-db4a-c42122205ddc"
      },
      "execution_count": 9,
      "outputs": [
        {
          "output_type": "stream",
          "name": "stdout",
          "text": [
            "194 total pairs\n",
            "136 training pairs\n",
            "29 validation pairs\n",
            "29 test pairs\n"
          ]
        }
      ]
    },
    {
      "cell_type": "code",
      "source": [
        "strip_chars = string.punctuation + \"¿\"\n",
        "strip_chars = strip_chars.replace(\"[\", \"\")\n",
        "strip_chars = strip_chars.replace(\"]\", \"\")\n",
        "\n",
        "vocab_size = 15000\n",
        "sequence_length = 20\n",
        "batch_size = 64\n",
        "\n",
        "\n",
        "def custom_standardization(input_string):\n",
        "    lowercase = tf.strings.lower(input_string)\n",
        "    return tf.strings.regex_replace(lowercase, \"[%s]\" % re.escape(strip_chars), \"\")\n",
        "\n",
        "\n",
        "eng_vectorization = TextVectorization(\n",
        "    max_tokens=vocab_size, output_mode=\"int\", output_sequence_length=sequence_length,\n",
        ")\n",
        "chv_vectorization = TextVectorization(\n",
        "    max_tokens=vocab_size,\n",
        "    output_mode=\"int\",\n",
        "    output_sequence_length=sequence_length + 1,\n",
        "    standardize=custom_standardization,\n",
        ")\n",
        "train_eng_texts = [pair[0] for pair in train_pairs]\n",
        "train_chv_texts = [pair[1] for pair in train_pairs]\n",
        "eng_vectorization.adapt(train_eng_texts)\n",
        "chv_vectorization.adapt(train_chv_texts)"
      ],
      "metadata": {
        "id": "GssX9Mz7Fdet"
      },
      "execution_count": 10,
      "outputs": []
    },
    {
      "cell_type": "code",
      "source": [
        "def format_dataset(eng, chv):\n",
        "    eng = eng_vectorization(eng)\n",
        "    chv = chv_vectorization(chv)\n",
        "    return ({\"encoder_inputs\": eng, \"decoder_inputs\": chv[:, :-1],}, chv[:, 1:])\n",
        "\n",
        "\n",
        "def make_dataset(pairs):\n",
        "    eng_texts, chv_texts = zip(*pairs)\n",
        "    eng_texts = list(eng_texts)\n",
        "    chv_texts = list(chv_texts)\n",
        "    dataset = tf.data.Dataset.from_tensor_slices((eng_texts, chv_texts))\n",
        "    dataset = dataset.batch(batch_size)\n",
        "    dataset = dataset.map(format_dataset)\n",
        "    return dataset.shuffle(2048).prefetch(16).cache()\n",
        "\n",
        "\n",
        "train_ds = make_dataset(train_pairs)\n",
        "val_ds = make_dataset(val_pairs)"
      ],
      "metadata": {
        "id": "qogo3GwkFf7E"
      },
      "execution_count": 11,
      "outputs": []
    },
    {
      "cell_type": "code",
      "source": [
        "for inputs, targets in train_ds.take(1):\n",
        "    print(f'inputs[\"encoder_inputs\"].shape: {inputs[\"encoder_inputs\"].shape}')\n",
        "    print(f'inputs[\"decoder_inputs\"].shape: {inputs[\"decoder_inputs\"].shape}')\n",
        "    print(f\"targets.shape: {targets.shape}\")"
      ],
      "metadata": {
        "colab": {
          "base_uri": "https://localhost:8080/"
        },
        "id": "HvpfHJeQF-Gj",
        "outputId": "9f96708b-dc2d-4714-954d-083ab5350494"
      },
      "execution_count": 12,
      "outputs": [
        {
          "output_type": "stream",
          "name": "stdout",
          "text": [
            "inputs[\"encoder_inputs\"].shape: (64, 20)\n",
            "inputs[\"decoder_inputs\"].shape: (64, 20)\n",
            "targets.shape: (64, 20)\n"
          ]
        }
      ]
    },
    {
      "cell_type": "code",
      "source": [
        "class TransformerEncoder(layers.Layer):\n",
        "    def __init__(self, embed_dim, dense_dim, num_heads, **kwargs):\n",
        "        super().__init__(**kwargs)\n",
        "        self.embed_dim = embed_dim\n",
        "        self.dense_dim = dense_dim\n",
        "        self.num_heads = num_heads\n",
        "        self.attention = layers.MultiHeadAttention(\n",
        "            num_heads=num_heads, key_dim=embed_dim\n",
        "        )\n",
        "        self.dense_proj = keras.Sequential(\n",
        "            [layers.Dense(dense_dim, activation=\"relu\"), layers.Dense(embed_dim),]\n",
        "        )\n",
        "        self.layernorm_1 = layers.LayerNormalization()\n",
        "        self.layernorm_2 = layers.LayerNormalization()\n",
        "        self.supports_masking = True\n",
        "\n",
        "    def call(self, inputs, mask=None):\n",
        "        if mask is not None:\n",
        "            padding_mask = tf.cast(mask[:, tf.newaxis, tf.newaxis, :], dtype=\"int32\")\n",
        "        attention_output = self.attention(\n",
        "            query=inputs, value=inputs, key=inputs, attention_mask=padding_mask\n",
        "        )\n",
        "        proj_input = self.layernorm_1(inputs + attention_output)\n",
        "        proj_output = self.dense_proj(proj_input)\n",
        "        return self.layernorm_2(proj_input + proj_output)\n",
        "\n",
        "\n",
        "class PositionalEmbedding(layers.Layer):\n",
        "    def __init__(self, sequence_length, vocab_size, embed_dim, **kwargs):\n",
        "        super().__init__(**kwargs)\n",
        "        self.token_embeddings = layers.Embedding(\n",
        "            input_dim=vocab_size, output_dim=embed_dim\n",
        "        )\n",
        "        self.position_embeddings = layers.Embedding(\n",
        "            input_dim=sequence_length, output_dim=embed_dim\n",
        "        )\n",
        "        self.sequence_length = sequence_length\n",
        "        self.vocab_size = vocab_size\n",
        "        self.embed_dim = embed_dim\n",
        "\n",
        "    def call(self, inputs):\n",
        "        length = tf.shape(inputs)[-1]\n",
        "        positions = tf.range(start=0, limit=length, delta=1)\n",
        "        embedded_tokens = self.token_embeddings(inputs)\n",
        "        embedded_positions = self.position_embeddings(positions)\n",
        "        return embedded_tokens + embedded_positions\n",
        "\n",
        "    def compute_mask(self, inputs, mask=None):\n",
        "        return tf.math.not_equal(inputs, 0)\n",
        "\n",
        "\n",
        "class TransformerDecoder(layers.Layer):\n",
        "    def __init__(self, embed_dim, latent_dim, num_heads, **kwargs):\n",
        "        super().__init__(**kwargs)\n",
        "        self.embed_dim = embed_dim\n",
        "        self.latent_dim = latent_dim\n",
        "        self.num_heads = num_heads\n",
        "        self.attention_1 = layers.MultiHeadAttention(\n",
        "            num_heads=num_heads, key_dim=embed_dim\n",
        "        )\n",
        "        self.attention_2 = layers.MultiHeadAttention(\n",
        "            num_heads=num_heads, key_dim=embed_dim\n",
        "        )\n",
        "        self.dense_proj = keras.Sequential(\n",
        "            [layers.Dense(latent_dim, activation=\"relu\"), layers.Dense(embed_dim),]\n",
        "        )\n",
        "        self.layernorm_1 = layers.LayerNormalization()\n",
        "        self.layernorm_2 = layers.LayerNormalization()\n",
        "        self.layernorm_3 = layers.LayerNormalization()\n",
        "        self.supports_masking = True\n",
        "\n",
        "    def call(self, inputs, encoder_outputs, mask=None):\n",
        "        causal_mask = self.get_causal_attention_mask(inputs)\n",
        "        if mask is not None:\n",
        "            padding_mask = tf.cast(mask[:, tf.newaxis, :], dtype=\"int32\")\n",
        "            padding_mask = tf.minimum(padding_mask, causal_mask)\n",
        "\n",
        "        attention_output_1 = self.attention_1(\n",
        "            query=inputs, value=inputs, key=inputs, attention_mask=causal_mask\n",
        "        )\n",
        "        out_1 = self.layernorm_1(inputs + attention_output_1)\n",
        "\n",
        "        attention_output_2 = self.attention_2(\n",
        "            query=out_1,\n",
        "            value=encoder_outputs,\n",
        "            key=encoder_outputs,\n",
        "            attention_mask=padding_mask,\n",
        "        )\n",
        "        out_2 = self.layernorm_2(out_1 + attention_output_2)\n",
        "\n",
        "        proj_output = self.dense_proj(out_2)\n",
        "        return self.layernorm_3(out_2 + proj_output)\n",
        "\n",
        "    def get_causal_attention_mask(self, inputs):\n",
        "        input_shape = tf.shape(inputs)\n",
        "        batch_size, sequence_length = input_shape[0], input_shape[1]\n",
        "        i = tf.range(sequence_length)[:, tf.newaxis]\n",
        "        j = tf.range(sequence_length)\n",
        "        mask = tf.cast(i >= j, dtype=\"int32\")\n",
        "        mask = tf.reshape(mask, (1, input_shape[1], input_shape[1]))\n",
        "        mult = tf.concat(\n",
        "            [tf.expand_dims(batch_size, -1), tf.constant([1, 1], dtype=tf.int32)],\n",
        "            axis=0,\n",
        "        )\n",
        "        return tf.tile(mask, mult)"
      ],
      "metadata": {
        "id": "l7rKUgAfGAsA"
      },
      "execution_count": 13,
      "outputs": []
    },
    {
      "cell_type": "code",
      "source": [
        "embed_dim = 256\n",
        "latent_dim = 2048\n",
        "num_heads = 8\n",
        "\n",
        "encoder_inputs = keras.Input(shape=(None,), dtype=\"int64\", name=\"encoder_inputs\")\n",
        "x = PositionalEmbedding(sequence_length, vocab_size, embed_dim)(encoder_inputs)\n",
        "encoder_outputs = TransformerEncoder(embed_dim, latent_dim, num_heads)(x)\n",
        "encoder = keras.Model(encoder_inputs, encoder_outputs)\n",
        "\n",
        "decoder_inputs = keras.Input(shape=(None,), dtype=\"int64\", name=\"decoder_inputs\")\n",
        "encoded_seq_inputs = keras.Input(shape=(None, embed_dim), name=\"decoder_state_inputs\")\n",
        "x = PositionalEmbedding(sequence_length, vocab_size, embed_dim)(decoder_inputs)\n",
        "x = TransformerDecoder(embed_dim, latent_dim, num_heads)(x, encoded_seq_inputs)\n",
        "x = layers.Dropout(0.5)(x)\n",
        "decoder_outputs = layers.Dense(vocab_size, activation=\"softmax\")(x)\n",
        "decoder = keras.Model([decoder_inputs, encoded_seq_inputs], decoder_outputs)\n",
        "\n",
        "decoder_outputs = decoder([decoder_inputs, encoder_outputs])\n",
        "transformer = keras.Model(\n",
        "    [encoder_inputs, decoder_inputs], decoder_outputs, name=\"transformer\"\n",
        ")"
      ],
      "metadata": {
        "id": "8rJW6Om5GGdk"
      },
      "execution_count": 14,
      "outputs": []
    },
    {
      "cell_type": "code",
      "source": [
        "epochs = 32  # This should be at least 30 for convergence\n",
        "\n",
        "transformer.summary()\n",
        "transformer.compile(\n",
        "    \"rmsprop\", loss=\"sparse_categorical_crossentropy\", metrics=[\"accuracy\"]\n",
        ")\n",
        "transformer.fit(train_ds, epochs=epochs, validation_data=val_ds)"
      ],
      "metadata": {
        "colab": {
          "base_uri": "https://localhost:8080/"
        },
        "id": "sUyBpKcmGJ3k",
        "outputId": "e46870e3-ead7-4c99-d875-fd7455cbe805"
      },
      "execution_count": 15,
      "outputs": [
        {
          "output_type": "stream",
          "name": "stdout",
          "text": [
            "Model: \"transformer\"\n",
            "__________________________________________________________________________________________________\n",
            " Layer (type)                   Output Shape         Param #     Connected to                     \n",
            "==================================================================================================\n",
            " encoder_inputs (InputLayer)    [(None, None)]       0           []                               \n",
            "                                                                                                  \n",
            " positional_embedding (Position  (None, None, 256)   3845120     ['encoder_inputs[0][0]']         \n",
            " alEmbedding)                                                                                     \n",
            "                                                                                                  \n",
            " decoder_inputs (InputLayer)    [(None, None)]       0           []                               \n",
            "                                                                                                  \n",
            " transformer_encoder (Transform  (None, None, 256)   3155456     ['positional_embedding[0][0]']   \n",
            " erEncoder)                                                                                       \n",
            "                                                                                                  \n",
            " model_1 (Functional)           (None, None, 15000)  12959640    ['decoder_inputs[0][0]',         \n",
            "                                                                  'transformer_encoder[0][0]']    \n",
            "                                                                                                  \n",
            "==================================================================================================\n",
            "Total params: 19,960,216\n",
            "Trainable params: 19,960,216\n",
            "Non-trainable params: 0\n",
            "__________________________________________________________________________________________________\n",
            "Epoch 1/32\n",
            "3/3 [==============================] - 12s 2s/step - loss: 2.8230 - accuracy: 0.1721 - val_loss: 2.5909 - val_accuracy: 0.1602\n",
            "Epoch 2/32\n",
            "3/3 [==============================] - 6s 2s/step - loss: 2.3085 - accuracy: 0.1781 - val_loss: 2.2267 - val_accuracy: 0.1713\n",
            "Epoch 3/32\n",
            "3/3 [==============================] - 6s 2s/step - loss: 1.9126 - accuracy: 0.2010 - val_loss: 2.0967 - val_accuracy: 0.1602\n",
            "Epoch 4/32\n",
            "3/3 [==============================] - 6s 2s/step - loss: 1.6956 - accuracy: 0.1721 - val_loss: 2.0223 - val_accuracy: 0.2376\n",
            "Epoch 5/32\n",
            "3/3 [==============================] - 6s 2s/step - loss: 1.5855 - accuracy: 0.2503 - val_loss: 2.0399 - val_accuracy: 0.2376\n",
            "Epoch 6/32\n",
            "3/3 [==============================] - 6s 2s/step - loss: 1.5055 - accuracy: 0.3032 - val_loss: 2.0075 - val_accuracy: 0.2320\n",
            "Epoch 7/32\n",
            "3/3 [==============================] - 6s 2s/step - loss: 1.4515 - accuracy: 0.2479 - val_loss: 2.0495 - val_accuracy: 0.2818\n",
            "Epoch 8/32\n",
            "3/3 [==============================] - 8s 2s/step - loss: 1.4607 - accuracy: 0.2768 - val_loss: 1.9772 - val_accuracy: 0.3315\n",
            "Epoch 9/32\n",
            "3/3 [==============================] - 7s 2s/step - loss: 1.3387 - accuracy: 0.3381 - val_loss: 1.9938 - val_accuracy: 0.3204\n",
            "Epoch 10/32\n",
            "3/3 [==============================] - 6s 2s/step - loss: 1.3236 - accuracy: 0.3394 - val_loss: 2.0099 - val_accuracy: 0.3204\n",
            "Epoch 11/32\n",
            "3/3 [==============================] - 6s 2s/step - loss: 1.2766 - accuracy: 0.3369 - val_loss: 1.9902 - val_accuracy: 0.3315\n",
            "Epoch 12/32\n",
            "3/3 [==============================] - 6s 2s/step - loss: 1.2360 - accuracy: 0.3430 - val_loss: 2.0202 - val_accuracy: 0.3315\n",
            "Epoch 13/32\n",
            "3/3 [==============================] - 6s 2s/step - loss: 1.1762 - accuracy: 0.3442 - val_loss: 1.9487 - val_accuracy: 0.3370\n",
            "Epoch 14/32\n",
            "3/3 [==============================] - 6s 2s/step - loss: 1.1703 - accuracy: 0.3682 - val_loss: 2.0168 - val_accuracy: 0.3315\n",
            "Epoch 15/32\n",
            "3/3 [==============================] - 6s 2s/step - loss: 1.1187 - accuracy: 0.3755 - val_loss: 1.9941 - val_accuracy: 0.2818\n",
            "Epoch 16/32\n",
            "3/3 [==============================] - 6s 2s/step - loss: 1.0735 - accuracy: 0.3899 - val_loss: 2.0053 - val_accuracy: 0.3370\n",
            "Epoch 17/32\n",
            "3/3 [==============================] - 6s 2s/step - loss: 1.0176 - accuracy: 0.3995 - val_loss: 2.0079 - val_accuracy: 0.3094\n",
            "Epoch 18/32\n",
            "3/3 [==============================] - 6s 2s/step - loss: 0.9551 - accuracy: 0.4176 - val_loss: 1.9916 - val_accuracy: 0.3204\n",
            "Epoch 19/32\n",
            "3/3 [==============================] - 6s 2s/step - loss: 0.8926 - accuracy: 0.4404 - val_loss: 1.9588 - val_accuracy: 0.3039\n",
            "Epoch 20/32\n",
            "3/3 [==============================] - 6s 2s/step - loss: 0.8324 - accuracy: 0.4910 - val_loss: 1.9453 - val_accuracy: 0.3149\n",
            "Epoch 21/32\n",
            "3/3 [==============================] - 6s 2s/step - loss: 0.8012 - accuracy: 0.5475 - val_loss: 2.0778 - val_accuracy: 0.3536\n",
            "Epoch 22/32\n",
            "3/3 [==============================] - 6s 2s/step - loss: 0.7853 - accuracy: 0.4657 - val_loss: 1.9639 - val_accuracy: 0.3039\n",
            "Epoch 23/32\n",
            "3/3 [==============================] - 6s 2s/step - loss: 0.7199 - accuracy: 0.6354 - val_loss: 2.0288 - val_accuracy: 0.3260\n",
            "Epoch 24/32\n",
            "3/3 [==============================] - 6s 2s/step - loss: 0.6528 - accuracy: 0.6029 - val_loss: 1.9647 - val_accuracy: 0.3260\n",
            "Epoch 25/32\n",
            "3/3 [==============================] - 6s 2s/step - loss: 0.5928 - accuracy: 0.7220 - val_loss: 2.0760 - val_accuracy: 0.3260\n",
            "Epoch 26/32\n",
            "3/3 [==============================] - 6s 2s/step - loss: 0.5554 - accuracy: 0.7365 - val_loss: 2.0838 - val_accuracy: 0.3204\n",
            "Epoch 27/32\n",
            "3/3 [==============================] - 6s 2s/step - loss: 0.5017 - accuracy: 0.7641 - val_loss: 2.1188 - val_accuracy: 0.3370\n",
            "Epoch 28/32\n",
            "3/3 [==============================] - 6s 2s/step - loss: 0.4684 - accuracy: 0.7882 - val_loss: 2.0288 - val_accuracy: 0.3204\n",
            "Epoch 29/32\n",
            "3/3 [==============================] - 6s 2s/step - loss: 0.4202 - accuracy: 0.8207 - val_loss: 2.0608 - val_accuracy: 0.3315\n",
            "Epoch 30/32\n",
            "3/3 [==============================] - 6s 2s/step - loss: 0.3941 - accuracy: 0.8351 - val_loss: 2.0985 - val_accuracy: 0.3204\n",
            "Epoch 31/32\n",
            "3/3 [==============================] - 6s 2s/step - loss: 0.3569 - accuracy: 0.8400 - val_loss: 2.0422 - val_accuracy: 0.3315\n",
            "Epoch 32/32\n",
            "3/3 [==============================] - 6s 2s/step - loss: 0.3390 - accuracy: 0.8448 - val_loss: 2.1485 - val_accuracy: 0.3370\n"
          ]
        },
        {
          "output_type": "execute_result",
          "data": {
            "text/plain": [
              "<keras.callbacks.History at 0x7f9661c8d610>"
            ]
          },
          "metadata": {},
          "execution_count": 15
        }
      ]
    },
    {
      "cell_type": "code",
      "source": [
        "chv_vocab = chv_vectorization.get_vocabulary()\n",
        "chv_index_lookup = dict(zip(range(len(chv_vocab)), chv_vocab))\n",
        "max_decoded_sentence_length = 20\n",
        "\n",
        "\n",
        "def decode_sequence(input_sentence):\n",
        "    tokenized_input_sentence = eng_vectorization([input_sentence])\n",
        "    decoded_sentence = \"[start]\"\n",
        "    for i in range(max_decoded_sentence_length):\n",
        "        tokenized_target_sentence = chv_vectorization([decoded_sentence])[:, :-1]\n",
        "        predictions = transformer([tokenized_input_sentence, tokenized_target_sentence])\n",
        "\n",
        "        sampled_token_index = np.argmax(predictions[0, i, :])\n",
        "        sampled_token = chv_index_lookup[sampled_token_index]\n",
        "        decoded_sentence += \" \" + sampled_token\n",
        "\n",
        "        if sampled_token == \"[end]\":\n",
        "            break\n",
        "    return decoded_sentence\n",
        "\n",
        "\n",
        "test_eng_texts = [pair[0] for pair in test_pairs]\n",
        "for _ in range(30):\n",
        "    input_sentence = random.choice(test_eng_texts)\n",
        "    translated = decode_sequence(input_sentence)\n",
        "    print(input_sentence,'->',translated)"
      ],
      "metadata": {
        "colab": {
          "base_uri": "https://localhost:8080/"
        },
        "id": "wCjeNQ5P46DV",
        "outputId": "675642bc-b03d-4b9e-d3de-8e03d0b00f47"
      },
      "execution_count": 16,
      "outputs": [
        {
          "output_type": "stream",
          "name": "stdout",
          "text": [
            "Tom is big and strong. -> [start] Том ачаран ҫӳллех мар [end]\n",
            "Kelantan is one of the states in West Malaysia. -> [start] Кӳлӗ кайса сик [end]\n",
            "I need a towel. -> [start] Эпӗ сана курасшӑнччӗ анчах [end]\n",
            "She speaks good English. -> [start] Паттинче унпа паллашнӑран вӑл питӗ [end]\n",
            "Everybody at school hates me. -> [start] Кӳлӗ кайса сик [end]\n",
            "My mom works in a factory. -> [start] Кӳлӗ кайса сик [end]\n",
            "It's not a joke. -> [start] Кӳлӗ кайса сик [end]\n",
            "Tom knows what I'm talking about. -> [start] Том Машука пӗр лайӑх калаҫатӑн [end]\n",
            "Everybody at school hates me. -> [start] Кӳлӗ кайса сик [end]\n",
            "Everybody at school hates me. -> [start] Кӳлӗ кайса сик [end]\n",
            "She speaks good English. -> [start] Паттинче унпа паллашнӑран вӑл питӗ [end]\n",
            "Tom knows what I'm talking about. -> [start] Том Машука пӗр лайӑх калаҫатӑн [end]\n",
            "It's not a joke. -> [start] Кӳлӗ кайса сик [end]\n",
            "Why don't you start? -> [start] Мӗншӗн эсӗ Французла ҫав терри [end]\n",
            "You're not listening to me. -> [start] Эсӗ халь манӑн [end]\n",
            "I love you and I want to marry you. -> [start] Эпӗ сана курасшӑнччӗ анчах [end]\n",
            "I need a towel. -> [start] Эпӗ сана курасшӑнччӗ анчах [end]\n",
            "You should write a letter. -> [start] Санӑн ҫыру ҫырмалла [end]\n",
            "She speaks good English. -> [start] Паттинче унпа паллашнӑран вӑл питӗ [end]\n",
            "Tell me about this girl. -> [start] Кӳлӗ кайса сик [end]\n",
            "My mom works in a factory. -> [start] Кӳлӗ кайса сик [end]\n",
            "Don't scold her. She's too young to understand. -> [start] Кӳлӗ кайса сик [end]\n",
            "Don't scold her. She's too young to understand. -> [start] Кӳлӗ кайса сик [end]\n",
            "Tom is big and strong. -> [start] Том ачаран ҫӳллех мар [end]\n",
            "Why don't you start? -> [start] Мӗншӗн эсӗ Французла ҫав терри [end]\n",
            "Tom is big and strong. -> [start] Том ачаран ҫӳллех мар [end]\n",
            "It's not a joke. -> [start] Кӳлӗ кайса сик [end]\n",
            "I learned a lot from him. -> [start] Эпӗ сана курасшӑнччӗ анчах [end]\n",
            "Tom knows what I'm talking about. -> [start] Том Машука пӗр лайӑх калаҫатӑн [end]\n",
            "This is obviously a waste of time. -> [start] Ҫак япала мана [end]\n"
          ]
        }
      ]
    },
    {
      "cell_type": "code",
      "source": [],
      "metadata": {
        "id": "PsY1FSZHb1re"
      },
      "execution_count": 16,
      "outputs": []
    }
  ]
}