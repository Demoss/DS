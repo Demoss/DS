{
 "cells": [
  {
   "cell_type": "code",
   "execution_count": 1,
   "id": "db271dd6",
   "metadata": {},
   "outputs": [],
   "source": [
    "import pandas as pd\n",
    "import numpy as np"
   ]
  },
  {
   "cell_type": "code",
   "execution_count": 2,
   "id": "2c98e75b",
   "metadata": {},
   "outputs": [],
   "source": [
    "pd.set_option('display.max_columns', None)"
   ]
  },
  {
   "cell_type": "code",
   "execution_count": 51,
   "id": "1e8e44ce",
   "metadata": {},
   "outputs": [
    {
     "name": "stderr",
     "output_type": "stream",
     "text": [
      "C:\\Users\\Kseniia\\AppData\\Local\\Temp\\ipykernel_12716\\2436019669.py:1: DtypeWarning: Columns (26) have mixed types. Specify dtype option on import or set low_memory=False.\n",
      "  df = pd.read_csv('train.csv')\n"
     ]
    }
   ],
   "source": [
    "df = pd.read_csv('train.csv')"
   ]
  },
  {
   "cell_type": "code",
   "execution_count": 52,
   "id": "5249e802",
   "metadata": {},
   "outputs": [
    {
     "data": {
      "text/plain": [
       "100000"
      ]
     },
     "execution_count": 52,
     "metadata": {},
     "output_type": "execute_result"
    }
   ],
   "source": [
    "len(df)"
   ]
  },
  {
   "cell_type": "code",
   "execution_count": 53,
   "id": "259fd6b9",
   "metadata": {},
   "outputs": [
    {
     "name": "stderr",
     "output_type": "stream",
     "text": [
      "C:\\Users\\Kseniia\\AppData\\Local\\Temp\\ipykernel_12716\\1727211859.py:38: FutureWarning: Not prepending group keys to the result index of transform-like apply. In the future, the group keys will be included in the index, regardless of whether the applied function returns a like-indexed object.\n",
      "To preserve the previous behavior, use\n",
      "\n",
      "\t>>> .groupby(..., group_keys=False)\n",
      "\n",
      "To adopt the future behavior and silence this warning, use \n",
      "\n",
      "\t>>> .groupby(..., group_keys=True)\n",
      "  df.Credit_History_Age = df.groupby('Customer_ID').Credit_History_Age.apply(lambda x: add_history_month(x))\n",
      "C:\\Users\\Kseniia\\AppData\\Local\\Temp\\ipykernel_12716\\1727211859.py:44: FutureWarning: Not prepending group keys to the result index of transform-like apply. In the future, the group keys will be included in the index, regardless of whether the applied function returns a like-indexed object.\n",
      "To preserve the previous behavior, use\n",
      "\n",
      "\t>>> .groupby(..., group_keys=False)\n",
      "\n",
      "To adopt the future behavior and silence this warning, use \n",
      "\n",
      "\t>>> .groupby(..., group_keys=True)\n",
      "  df.Credit_History_Age = df.groupby('Customer_ID').Credit_History_Age.apply(lambda x: add_history_month(x))\n"
     ]
    }
   ],
   "source": [
    "df[['Annual_Income', 'Num_of_Loan', 'Age', 'Num_of_Delayed_Payment', 'Changed_Credit_Limit', 'Outstanding_Debt']] = df[['Annual_Income', 'Num_of_Loan','Age', 'Num_of_Delayed_Payment', 'Changed_Credit_Limit', 'Outstanding_Debt']].replace(r'_$', '', regex=True)\n",
    "df[['Age', 'Annual_Income', 'Num_of_Loan', 'Num_of_Delayed_Payment', 'Changed_Credit_Limit', 'Outstanding_Debt']] = df[['Age', 'Annual_Income', 'Num_of_Loan', 'Num_of_Delayed_Payment', 'Changed_Credit_Limit', 'Outstanding_Debt']].apply(pd.to_numeric)\n",
    "df.Age = df.Age.apply(lambda x: x if x > 0 and x < 100 else np.NaN)\n",
    "df.Age = df.Age.fillna(df.groupby('Customer_ID').Age.transform('max'))\n",
    "df.Monthly_Inhand_Salary = df.Monthly_Inhand_Salary.fillna(df.groupby('Customer_ID').Monthly_Inhand_Salary.transform('last'))\n",
    "df.Num_Bank_Accounts = df.Num_Bank_Accounts.apply(lambda x: x if x >= 0 and x <= 11 else np.NaN)\n",
    "df.Num_Credit_Card = df.Num_Credit_Card.apply(lambda x: x if x >= 0 and x <= 11 else np.NaN)\n",
    "df.Interest_Rate = df.Interest_Rate.apply(lambda x: x if x >= 0 and x <= 34 else np.NaN)\n",
    "df.Num_of_Loan = df.Num_of_Loan.apply(lambda x: x if x >= 0 and x <= 9 else np.NaN)\n",
    "df.Num_Bank_Accounts = df.Num_Bank_Accounts.fillna(df.groupby('Customer_ID').Num_Bank_Accounts.transform('last'))\n",
    "df.Num_Credit_Card = df.Num_Credit_Card.fillna(df.groupby('Customer_ID').Num_Credit_Card.transform('last'))\n",
    "df.Interest_Rate = df.Interest_Rate.fillna(df.groupby('Customer_ID').Interest_Rate.transform('last'))\n",
    "df.Num_of_Loan = df.Num_of_Loan.fillna(df.groupby('Customer_ID').Num_of_Loan.transform('last'))\n",
    "df.Type_of_Loan = df.Type_of_Loan.str.split(r', |, and ')\n",
    "df.Type_of_Loan = df.Type_of_Loan.fillna(\"\").apply(list)\n",
    "unique_types = ['Auto Loan', 'Credit-Builder Loan', 'Personal Loan', 'Home Equity Loan', 'Not Specified', 'Student Loan', 'Mortgage Loan', 'Payday Loan', 'Debt Consolidation Loan']\n",
    "for typ in unique_types:\n",
    "    df[typ] = df['Type_of_Loan'].apply(lambda x: x.count(typ))\n",
    "df.Delay_from_due_date = df.Delay_from_due_date.apply(lambda x: x if x >= 0 else np.NaN)\n",
    "df.Delay_from_due_date = df.Delay_from_due_date.fillna(df.groupby('Customer_ID').Delay_from_due_date.transform('last'))\n",
    "df.Num_of_Delayed_Payment = pd.to_numeric(df.Num_of_Delayed_Payment)\n",
    "df.Num_of_Delayed_Payment = df.Num_of_Delayed_Payment.apply(lambda x: x if x >= 0 and x <= 28 else np.NaN)\n",
    "df.Num_of_Delayed_Payment = df.Num_of_Delayed_Payment.fillna(df.groupby('Customer_ID').Num_of_Delayed_Payment.transform('last'))\n",
    "df.Changed_Credit_Limit = df.Changed_Credit_Limit.apply(lambda x: x if x >= 0 else np.NaN)\n",
    "df.Changed_Credit_Limit = df.Changed_Credit_Limit.fillna(df.groupby('Customer_ID').Changed_Credit_Limit.transform('last'))\n",
    "df.Num_Credit_Inquiries = df.Num_Credit_Inquiries.apply(lambda x: x if x >= 0 and x <= 17 else np.NaN)\n",
    "df.Num_Credit_Inquiries = df.Num_Credit_Inquiries.fillna(df.groupby('Customer_ID').Num_Credit_Inquiries.transform('last'))\n",
    "df.Credit_Mix = df.Credit_Mix.apply(lambda x: x if x != '_' else np.NaN)\n",
    "df.Credit_Mix = df.Credit_Mix.fillna(df.groupby('Customer_ID').Credit_Mix.transform('first'))\n",
    "df.Credit_History_Age = df.Credit_History_Age.str.rstrip(' Months')\n",
    "df.Credit_History_Age = df.Credit_History_Age.str.split(' Years and ')\n",
    "df.Credit_History_Age = df.Credit_History_Age.apply(lambda x:  int(x[0]) * 12 + int(x[1]) if type(x) == list else x)\n",
    "def add_history_month(x):\n",
    "    for index, item in x.items():\n",
    "        if pd.isna(item):\n",
    "            x[index] = x.shift(1)[index] + 1\n",
    "    return x\n",
    "df.Credit_History_Age = df.groupby('Customer_ID').Credit_History_Age.apply(lambda x: add_history_month(x))\n",
    "def add_history_month(x):\n",
    "    for index, item in x.items():\n",
    "        if pd.isna(item):\n",
    "            x[index] = x.shift(-1)[index] - 1\n",
    "    return x\n",
    "df.Credit_History_Age = df.groupby('Customer_ID').Credit_History_Age.apply(lambda x: add_history_month(x))\n",
    "df.Payment_of_Min_Amount = df.Payment_of_Min_Amount.apply(lambda x: x if x != 'NM' else np.NaN)\n",
    "df.Payment_of_Min_Amount = df.Payment_of_Min_Amount.fillna(df.groupby('Customer_ID').Payment_of_Min_Amount.transform('last'))\n",
    "df.Amount_invested_monthly = df.Amount_invested_monthly.apply(lambda x: x if x != '__10000__' else np.NaN)\n",
    "df.Amount_invested_monthly = df.Amount_invested_monthly.fillna(df.groupby('Customer_ID').Amount_invested_monthly.transform('last'))\n",
    "df.Payment_Behaviour = df.Payment_Behaviour.apply(lambda x: x if x != '!@9#%8' else np.NaN)\n",
    "df.Payment_Behaviour = df.Payment_Behaviour.fillna(df.groupby('Customer_ID').Payment_Behaviour.transform('last'))\n",
    "df.Monthly_Balance = df.Monthly_Balance.apply(lambda x: x if x != '__-333333333333333333333333333__' else np.NaN)\n",
    "df.Monthly_Balance = df.Monthly_Balance.fillna(df.groupby('Customer_ID').Monthly_Balance.transform('last'))\n",
    "df.replace({'Credit_Mix' : {'Bad': '0', 'Good' : '1', 'Standard' : '0.5'}, 'Payment_of_Min_Amount':{'Yes' : '1', 'No' : '0'}}, inplace=True)\n",
    "df[['Credit_Mix','Payment_of_Min_Amount']] = df[['Credit_Mix','Payment_of_Min_Amount']].apply(pd.to_numeric)\n",
    "df.Payment_Behaviour = df.Payment_Behaviour.str.replace('Low_spent_Small_value_payments','6')\n",
    "df.Payment_Behaviour = df.Payment_Behaviour.str.replace('High_spent_Medium_value_payments','24')\n",
    "df.Payment_Behaviour = df.Payment_Behaviour.str.replace('Low_spent_Medium_value_payments','12')\n",
    "df.Payment_Behaviour = df.Payment_Behaviour.str.replace('High_spent_Large_value_payments','36')\n",
    "df.Payment_Behaviour = df.Payment_Behaviour.str.replace('High_spent_Small_value_payments','12')\n",
    "df.Payment_Behaviour = df.Payment_Behaviour.str.replace('Low_spent_Large_value_payments','18')\n",
    "df.Annual_Income = df.Annual_Income.apply(lambda x: x if x < 160000 else np.NaN)\n",
    "df.Annual_Income = df.Annual_Income.fillna(df.groupby('Customer_ID').Annual_Income.transform('last'))\n",
    "df.Total_EMI_per_month = df.Total_EMI_per_month.apply(lambda x: x if x < 1700 else np.NaN)\n",
    "df.Total_EMI_per_month = df.Total_EMI_per_month.fillna(df.groupby('Customer_ID').Total_EMI_per_month.transform('last'))\n",
    "df.drop(df[pd.isna(df.Num_Bank_Accounts) | pd.isna(df.Num_Credit_Card) | pd.isna(df.Interest_Rate) | pd.isna(df.Num_of_Loan) | pd.isna(df.Num_Credit_Inquiries) | pd.isna(df.Credit_History_Age) | pd.isna(df.Total_EMI_per_month) | pd.isna(df.Annual_Income)].index, inplace=True)\n",
    "df.drop(columns=['Type_of_Loan', 'SSN', 'Name', 'ID', 'Customer_ID', 'Month', 'Occupation'], inplace=True)"
   ]
  },
  {
   "cell_type": "code",
   "execution_count": 54,
   "id": "26c7349b",
   "metadata": {},
   "outputs": [],
   "source": [
    "X = df.drop(['Credit_Score'], axis = 1)\n",
    "y = df['Credit_Score']"
   ]
  },
  {
   "cell_type": "code",
   "execution_count": 55,
   "id": "e0c9d022",
   "metadata": {},
   "outputs": [],
   "source": [
    "from sklearn import preprocessing\n",
    "X = preprocessing.normalize(X)"
   ]
  },
  {
   "cell_type": "code",
   "execution_count": 56,
   "id": "d20ad5ee",
   "metadata": {},
   "outputs": [],
   "source": [
    "from sklearn.model_selection import train_test_split\n",
    "X_train, X_test, y_train, y_test = train_test_split(X, y, test_size=0.20)"
   ]
  },
  {
   "cell_type": "code",
   "execution_count": 57,
   "id": "2af9f6db",
   "metadata": {},
   "outputs": [],
   "source": [
    "lb = preprocessing.LabelBinarizer()\n",
    "y_train = lb.fit_transform(y_train)\n",
    "y_test = lb.transform(y_test)"
   ]
  },
  {
   "cell_type": "code",
   "execution_count": 2,
   "id": "6de7fb5b",
   "metadata": {},
   "outputs": [],
   "source": [
    "from tensorflow.keras.models import Sequential\n",
    "from tensorflow.keras.layers import Dense\n",
    "model = Sequential()\n",
    "model.add(Dense(256, input_shape=(29,), activation=\"sigmoid\"))\n",
    "model.add(Dense(128, activation=\"sigmoid\"))\n",
    "model.add(Dense(3, activation=\"softmax\"))"
   ]
  },
  {
   "cell_type": "code",
   "execution_count": 59,
   "id": "41a40ece",
   "metadata": {},
   "outputs": [
    {
     "name": "stdout",
     "output_type": "stream",
     "text": [
      "Epoch 1/10\n",
      "39/39 [==============================] - 2s 23ms/step - loss: 1.1376 - accuracy: 0.4578 - val_loss: 1.0016 - val_accuracy: 0.5314\n",
      "Epoch 2/10\n",
      "39/39 [==============================] - 1s 19ms/step - loss: 0.9979 - accuracy: 0.5345 - val_loss: 1.0016 - val_accuracy: 0.5314\n",
      "Epoch 3/10\n",
      "39/39 [==============================] - 1s 20ms/step - loss: 0.9979 - accuracy: 0.5345 - val_loss: 1.0017 - val_accuracy: 0.5314\n",
      "Epoch 4/10\n",
      "39/39 [==============================] - 1s 20ms/step - loss: 0.9979 - accuracy: 0.5345 - val_loss: 1.0016 - val_accuracy: 0.5314\n",
      "Epoch 5/10\n",
      "39/39 [==============================] - 1s 20ms/step - loss: 0.9979 - accuracy: 0.5345 - val_loss: 1.0016 - val_accuracy: 0.5314\n",
      "Epoch 6/10\n",
      "39/39 [==============================] - 1s 20ms/step - loss: 0.9979 - accuracy: 0.5345 - val_loss: 1.0016 - val_accuracy: 0.5314\n",
      "Epoch 7/10\n",
      "39/39 [==============================] - 1s 20ms/step - loss: 0.9979 - accuracy: 0.5345 - val_loss: 1.0016 - val_accuracy: 0.5314\n",
      "Epoch 8/10\n",
      "39/39 [==============================] - 1s 20ms/step - loss: 0.9979 - accuracy: 0.5345 - val_loss: 1.0017 - val_accuracy: 0.5314\n",
      "Epoch 9/10\n",
      "39/39 [==============================] - 1s 20ms/step - loss: 0.9979 - accuracy: 0.5345 - val_loss: 1.0016 - val_accuracy: 0.5314\n",
      "Epoch 10/10\n",
      "39/39 [==============================] - 1s 20ms/step - loss: 0.9979 - accuracy: 0.5345 - val_loss: 1.0017 - val_accuracy: 0.5314\n"
     ]
    }
   ],
   "source": [
    "from tensorflow.keras.optimizers import SGD\n",
    "sgd = SGD(0.01)\n",
    "    model.compile(loss=\"categorical_crossentropy\", optimizer=sgd,\n",
    "        metrics=[\"accuracy\"])\n",
    "H = model.fit(X_train, y_train, validation_data=(X_test, y_test),\n",
    "    epochs=10, batch_size=2048)"
   ]
  },
  {
   "cell_type": "markdown",
   "id": "55315db3",
   "metadata": {},
   "source": [
    "Task 2\n",
    "https://www.kaggle.com/datasets/muratkokludataset/rice-image-dataset?resource=download"
   ]
  },
  {
   "cell_type": "code",
   "execution_count": 3,
   "id": "fb5b8792",
   "metadata": {},
   "outputs": [],
   "source": [
    "import pathlib\n",
    "path = \"Rice_Image_Dataset\"\n",
    "path = pathlib.Path(path)\n",
    "arborio = list(path.glob('Arborio\\*'))\n",
    "basmati = list(path.glob('Basmati\\*'))\n",
    "ipsala = list(path.glob('Ipsala\\*'))\n",
    "jasmine = list(path.glob('Jasmine\\*'))\n",
    "karacadag = list(path.glob('Karacadag\\*'))"
   ]
  },
  {
   "cell_type": "code",
   "execution_count": 4,
   "id": "6033c48f",
   "metadata": {},
   "outputs": [
    {
     "data": {
      "text/plain": [
       "(250, 250, 3)"
      ]
     },
     "execution_count": 4,
     "metadata": {},
     "output_type": "execute_result"
    }
   ],
   "source": [
    "import cv2\n",
    "cv2.imread(str(arborio[0])).shape"
   ]
  },
  {
   "cell_type": "code",
   "execution_count": 5,
   "id": "6e3f209a",
   "metadata": {},
   "outputs": [
    {
     "ename": "KeyboardInterrupt",
     "evalue": "",
     "output_type": "error",
     "traceback": [
      "\u001b[1;31m---------------------------------------------------------------------------\u001b[0m",
      "\u001b[1;31mKeyboardInterrupt\u001b[0m                         Traceback (most recent call last)",
      "Input \u001b[1;32mIn [5]\u001b[0m, in \u001b[0;36m<module>\u001b[1;34m\u001b[0m\n\u001b[0;32m      1\u001b[0m X, y \u001b[38;5;241m=\u001b[39m [], []\n\u001b[0;32m      2\u001b[0m \u001b[38;5;28;01mfor\u001b[39;00m img \u001b[38;5;129;01min\u001b[39;00m arborio \u001b[38;5;241m+\u001b[39m basmati \u001b[38;5;241m+\u001b[39m ipsala \u001b[38;5;241m+\u001b[39m jasmine \u001b[38;5;241m+\u001b[39m karacadag:\n\u001b[1;32m----> 3\u001b[0m     X\u001b[38;5;241m.\u001b[39mappend(cv2\u001b[38;5;241m.\u001b[39mresize(\u001b[43mcv2\u001b[49m\u001b[38;5;241;43m.\u001b[39;49m\u001b[43mimread\u001b[49m\u001b[43m(\u001b[49m\u001b[38;5;28;43mstr\u001b[39;49m\u001b[43m(\u001b[49m\u001b[43mimg\u001b[49m\u001b[43m)\u001b[49m\u001b[43m)\u001b[49m, (\u001b[38;5;241m50\u001b[39m, \u001b[38;5;241m50\u001b[39m)) \u001b[38;5;241m/\u001b[39m \u001b[38;5;241m255\u001b[39m)\n\u001b[0;32m      4\u001b[0m y \u001b[38;5;241m=\u001b[39m [\u001b[38;5;124m'\u001b[39m\u001b[38;5;124marborio\u001b[39m\u001b[38;5;124m'\u001b[39m] \u001b[38;5;241m*\u001b[39m \u001b[38;5;241m15000\u001b[39m \u001b[38;5;241m+\u001b[39m [\u001b[38;5;124m'\u001b[39m\u001b[38;5;124mbasmati\u001b[39m\u001b[38;5;124m'\u001b[39m] \u001b[38;5;241m*\u001b[39m \u001b[38;5;241m15000\u001b[39m \u001b[38;5;241m+\u001b[39m [\u001b[38;5;124m'\u001b[39m\u001b[38;5;124mipsala\u001b[39m\u001b[38;5;124m'\u001b[39m] \u001b[38;5;241m*\u001b[39m \u001b[38;5;241m15000\u001b[39m \u001b[38;5;241m+\u001b[39m [\u001b[38;5;124m'\u001b[39m\u001b[38;5;124mjasmine\u001b[39m\u001b[38;5;124m'\u001b[39m] \u001b[38;5;241m*\u001b[39m \u001b[38;5;241m15000\u001b[39m \u001b[38;5;241m+\u001b[39m [\u001b[38;5;124m'\u001b[39m\u001b[38;5;124mkaracadag\u001b[39m\u001b[38;5;124m'\u001b[39m] \u001b[38;5;241m*\u001b[39m \u001b[38;5;241m15000\u001b[39m\n",
      "\u001b[1;31mKeyboardInterrupt\u001b[0m: "
     ]
    }
   ],
   "source": [
    "X, y = [], []\n",
    "for img in arborio + basmati + ipsala + jasmine + karacadag:\n",
    "    X.append(cv2.resize(cv2.imread(str(img)), (50, 50)) / 255)\n",
    "y = ['arborio'] * 15000 + ['basmati'] * 15000 + ['ipsala'] * 15000 + ['jasmine'] * 15000 + ['karacadag'] * 15000    "
   ]
  },
  {
   "cell_type": "code",
   "execution_count": null,
   "id": "21821515",
   "metadata": {},
   "outputs": [],
   "source": [
    "from sklearn.model_selection import train_test_split\n",
    "from sklearn.preprocessing import LabelEncoder"
   ]
  },
  {
   "cell_type": "code",
   "execution_count": null,
   "id": "f5fd434e",
   "metadata": {},
   "outputs": [],
   "source": [
    "X_train, X_test, y_train, y_test = train_test_split(X, y, test_size=0.3)\n",
    "\n",
    "#df_train = pd.DataFrame({'image': X_train, 'label': y_train})\n",
    "#df_test = pd.DataFrame({'image': X_test, 'label': y_test})"
   ]
  },
  {
   "cell_type": "code",
   "execution_count": null,
   "id": "62f495b0",
   "metadata": {},
   "outputs": [],
   "source": [
    "lb = LabelEncoder()\n",
    "y_train = lb.fit_transform(y_train)\n",
    "y_test = lb.transform(y_test)"
   ]
  },
  {
   "cell_type": "code",
   "execution_count": 27,
   "id": "066ba737",
   "metadata": {},
   "outputs": [],
   "source": [
    "X_train = np.array(X_train[:10000])\n",
    "y_train = y_train[:10000]\n",
    "X_test = np.array(X_test)\n",
    "y_test = np.array(y_test)"
   ]
  },
  {
   "cell_type": "code",
   "execution_count": 16,
   "id": "af57be21",
   "metadata": {},
   "outputs": [],
   "source": [
    "from keras.losses import SparseCategoricalCrossentropy"
   ]
  },
  {
   "cell_type": "code",
   "execution_count": 2,
   "id": "0c346c39",
   "metadata": {},
   "outputs": [],
   "source": [
    "from keras.models import Sequential\n",
    "from keras.layers import Conv2D, MaxPooling2D, Flatten, Dense\n",
    "# Set the input shape for the model\n",
    "input_shape = (50, 50, 3)\n",
    "\n",
    "# Create a Sequential model\n",
    "model = Sequential()\n",
    "model.add(Conv2D(32, kernel_size=(3, 3), activation='relu', input_shape = input_shape))\n",
    "model.add(MaxPooling2D(pool_size=(2, 2)))\n",
    "model.add(Conv2D(64, kernel_size=(3, 3), activation='relu'))\n",
    "model.add(MaxPooling2D(pool_size=(2, 2)))\n",
    "model.add(Flatten())\n",
    "model.add(Dense(128, activation='relu'))\n",
    "model.add(Dense(5, activation='softmax'))"
   ]
  },
  {
   "cell_type": "code",
   "execution_count": 33,
   "id": "6055f95c",
   "metadata": {},
   "outputs": [
    {
     "name": "stdout",
     "output_type": "stream",
     "text": [
      "Epoch 1/10\n",
      "313/313 [==============================] - 81s 255ms/step - loss: 0.1147 - accuracy: 0.9615 - val_loss: 0.1344 - val_accuracy: 0.9537\n",
      "Epoch 2/10\n",
      "313/313 [==============================] - 78s 248ms/step - loss: 0.0857 - accuracy: 0.9681 - val_loss: 0.0949 - val_accuracy: 0.9678\n",
      "Epoch 3/10\n",
      "313/313 [==============================] - 77s 248ms/step - loss: 0.0681 - accuracy: 0.9762 - val_loss: 0.1085 - val_accuracy: 0.9636\n",
      "Epoch 4/10\n",
      "313/313 [==============================] - 81s 260ms/step - loss: 0.0623 - accuracy: 0.9779 - val_loss: 0.0724 - val_accuracy: 0.9761\n",
      "Epoch 5/10\n",
      "313/313 [==============================] - 76s 242ms/step - loss: 0.0483 - accuracy: 0.9837 - val_loss: 0.0679 - val_accuracy: 0.9772\n",
      "Epoch 6/10\n",
      "313/313 [==============================] - 82s 262ms/step - loss: 0.0441 - accuracy: 0.9836 - val_loss: 0.0942 - val_accuracy: 0.9699\n",
      "Epoch 7/10\n",
      "313/313 [==============================] - 80s 255ms/step - loss: 0.0326 - accuracy: 0.9887 - val_loss: 0.0920 - val_accuracy: 0.9689\n",
      "Epoch 8/10\n",
      "313/313 [==============================] - 89s 284ms/step - loss: 0.0263 - accuracy: 0.9909 - val_loss: 0.0767 - val_accuracy: 0.9744\n",
      "Epoch 9/10\n",
      "313/313 [==============================] - 88s 280ms/step - loss: 0.0204 - accuracy: 0.9929 - val_loss: 0.0576 - val_accuracy: 0.9814\n",
      "Epoch 10/10\n",
      "313/313 [==============================] - 78s 248ms/step - loss: 0.0163 - accuracy: 0.9941 - val_loss: 0.0688 - val_accuracy: 0.9799\n"
     ]
    }
   ],
   "source": [
    "model.compile(optimizer='adam',\n",
    "              loss=SparseCategoricalCrossentropy(from_logits=True),\n",
    "              metrics=['accuracy'])\n",
    "\n",
    "H = model.fit(X_train, y_train, epochs=10, \n",
    "                    validation_data=(X_test, y_test))"
   ]
  },
  {
   "cell_type": "code",
   "execution_count": 39,
   "id": "fc6606ef",
   "metadata": {},
   "outputs": [
    {
     "name": "stdout",
     "output_type": "stream",
     "text": [
      "WARNING:tensorflow:Model was constructed with shape (None, 50, 50, 3) for input KerasTensor(type_spec=TensorSpec(shape=(None, 50, 50, 3), dtype=tf.float32, name='conv2d_4_input'), name='conv2d_4_input', description=\"created by layer 'conv2d_4_input'\"), but it was called on an input with incompatible shape (None, 1).\n"
     ]
    },
    {
     "ename": "ValueError",
     "evalue": "in user code:\n\n    File \"C:\\Users\\Kseniia\\AppData\\Local\\Programs\\Python\\Python310\\lib\\site-packages\\keras\\engine\\training.py\", line 1820, in test_function  *\n        return step_function(self, iterator)\n    File \"C:\\Users\\Kseniia\\AppData\\Local\\Programs\\Python\\Python310\\lib\\site-packages\\keras\\engine\\training.py\", line 1804, in step_function  **\n        outputs = model.distribute_strategy.run(run_step, args=(data,))\n    File \"C:\\Users\\Kseniia\\AppData\\Local\\Programs\\Python\\Python310\\lib\\site-packages\\keras\\engine\\training.py\", line 1792, in run_step  **\n        outputs = model.test_step(data)\n    File \"C:\\Users\\Kseniia\\AppData\\Local\\Programs\\Python\\Python310\\lib\\site-packages\\keras\\engine\\training.py\", line 1756, in test_step\n        y_pred = self(x, training=False)\n    File \"C:\\Users\\Kseniia\\AppData\\Local\\Programs\\Python\\Python310\\lib\\site-packages\\keras\\utils\\traceback_utils.py\", line 70, in error_handler\n        raise e.with_traceback(filtered_tb) from None\n    File \"C:\\Users\\Kseniia\\AppData\\Local\\Programs\\Python\\Python310\\lib\\site-packages\\keras\\engine\\input_spec.py\", line 250, in assert_input_compatibility\n        raise ValueError(\n\n    ValueError: Exception encountered when calling layer 'sequential_2' (type Sequential).\n    \n    Input 0 of layer \"conv2d_4\" is incompatible with the layer: expected min_ndim=4, found ndim=2. Full shape received: (None, 1)\n    \n    Call arguments received by layer 'sequential_2' (type Sequential):\n      • inputs=tf.Tensor(shape=(None, 1), dtype=string)\n      • training=False\n      • mask=None\n",
     "output_type": "error",
     "traceback": [
      "\u001b[1;31m---------------------------------------------------------------------------\u001b[0m",
      "\u001b[1;31mValueError\u001b[0m                                Traceback (most recent call last)",
      "Input \u001b[1;32mIn [39]\u001b[0m, in \u001b[0;36m<module>\u001b[1;34m\u001b[0m\n\u001b[0;32m      5\u001b[0m plt\u001b[38;5;241m.\u001b[39mxlabel(\u001b[38;5;124m'\u001b[39m\u001b[38;5;124mEpoch\u001b[39m\u001b[38;5;124m'\u001b[39m)\n\u001b[0;32m      6\u001b[0m plt\u001b[38;5;241m.\u001b[39mylabel(\u001b[38;5;124m'\u001b[39m\u001b[38;5;124mAccuracy\u001b[39m\u001b[38;5;124m'\u001b[39m)\n\u001b[1;32m----> 8\u001b[0m test_loss, test_acc \u001b[38;5;241m=\u001b[39m \u001b[43mmodel\u001b[49m\u001b[38;5;241;43m.\u001b[39;49m\u001b[43mevaluate\u001b[49m\u001b[43m(\u001b[49m\u001b[43mX_test\u001b[49m\u001b[43m,\u001b[49m\u001b[43m  \u001b[49m\u001b[43my_test\u001b[49m\u001b[43m,\u001b[49m\u001b[43m \u001b[49m\u001b[43mverbose\u001b[49m\u001b[38;5;241;43m=\u001b[39;49m\u001b[38;5;241;43m2\u001b[39;49m\u001b[43m)\u001b[49m\n",
      "File \u001b[1;32m~\\AppData\\Local\\Programs\\Python\\Python310\\lib\\site-packages\\keras\\utils\\traceback_utils.py:70\u001b[0m, in \u001b[0;36mfilter_traceback.<locals>.error_handler\u001b[1;34m(*args, **kwargs)\u001b[0m\n\u001b[0;32m     67\u001b[0m     filtered_tb \u001b[38;5;241m=\u001b[39m _process_traceback_frames(e\u001b[38;5;241m.\u001b[39m__traceback__)\n\u001b[0;32m     68\u001b[0m     \u001b[38;5;66;03m# To get the full stack trace, call:\u001b[39;00m\n\u001b[0;32m     69\u001b[0m     \u001b[38;5;66;03m# `tf.debugging.disable_traceback_filtering()`\u001b[39;00m\n\u001b[1;32m---> 70\u001b[0m     \u001b[38;5;28;01mraise\u001b[39;00m e\u001b[38;5;241m.\u001b[39mwith_traceback(filtered_tb) \u001b[38;5;28;01mfrom\u001b[39;00m \u001b[38;5;28mNone\u001b[39m\n\u001b[0;32m     71\u001b[0m \u001b[38;5;28;01mfinally\u001b[39;00m:\n\u001b[0;32m     72\u001b[0m     \u001b[38;5;28;01mdel\u001b[39;00m filtered_tb\n",
      "File \u001b[1;32m~\\AppData\\Local\\Temp\\__autograph_generated_file2m5j3mv4.py:15\u001b[0m, in \u001b[0;36mouter_factory.<locals>.inner_factory.<locals>.tf__test_function\u001b[1;34m(iterator)\u001b[0m\n\u001b[0;32m     13\u001b[0m \u001b[38;5;28;01mtry\u001b[39;00m:\n\u001b[0;32m     14\u001b[0m     do_return \u001b[38;5;241m=\u001b[39m \u001b[38;5;28;01mTrue\u001b[39;00m\n\u001b[1;32m---> 15\u001b[0m     retval_ \u001b[38;5;241m=\u001b[39m ag__\u001b[38;5;241m.\u001b[39mconverted_call(ag__\u001b[38;5;241m.\u001b[39mld(step_function), (ag__\u001b[38;5;241m.\u001b[39mld(\u001b[38;5;28mself\u001b[39m), ag__\u001b[38;5;241m.\u001b[39mld(iterator)), \u001b[38;5;28;01mNone\u001b[39;00m, fscope)\n\u001b[0;32m     16\u001b[0m \u001b[38;5;28;01mexcept\u001b[39;00m:\n\u001b[0;32m     17\u001b[0m     do_return \u001b[38;5;241m=\u001b[39m \u001b[38;5;28;01mFalse\u001b[39;00m\n",
      "\u001b[1;31mValueError\u001b[0m: in user code:\n\n    File \"C:\\Users\\Kseniia\\AppData\\Local\\Programs\\Python\\Python310\\lib\\site-packages\\keras\\engine\\training.py\", line 1820, in test_function  *\n        return step_function(self, iterator)\n    File \"C:\\Users\\Kseniia\\AppData\\Local\\Programs\\Python\\Python310\\lib\\site-packages\\keras\\engine\\training.py\", line 1804, in step_function  **\n        outputs = model.distribute_strategy.run(run_step, args=(data,))\n    File \"C:\\Users\\Kseniia\\AppData\\Local\\Programs\\Python\\Python310\\lib\\site-packages\\keras\\engine\\training.py\", line 1792, in run_step  **\n        outputs = model.test_step(data)\n    File \"C:\\Users\\Kseniia\\AppData\\Local\\Programs\\Python\\Python310\\lib\\site-packages\\keras\\engine\\training.py\", line 1756, in test_step\n        y_pred = self(x, training=False)\n    File \"C:\\Users\\Kseniia\\AppData\\Local\\Programs\\Python\\Python310\\lib\\site-packages\\keras\\utils\\traceback_utils.py\", line 70, in error_handler\n        raise e.with_traceback(filtered_tb) from None\n    File \"C:\\Users\\Kseniia\\AppData\\Local\\Programs\\Python\\Python310\\lib\\site-packages\\keras\\engine\\input_spec.py\", line 250, in assert_input_compatibility\n        raise ValueError(\n\n    ValueError: Exception encountered when calling layer 'sequential_2' (type Sequential).\n    \n    Input 0 of layer \"conv2d_4\" is incompatible with the layer: expected min_ndim=4, found ndim=2. Full shape received: (None, 1)\n    \n    Call arguments received by layer 'sequential_2' (type Sequential):\n      • inputs=tf.Tensor(shape=(None, 1), dtype=string)\n      • training=False\n      • mask=None\n"
     ]
    },
    {
     "data": {
      "image/png": "[encoded data removed]",
      "text/plain": [
       "<Figure size 432x288 with 1 Axes>"
      ]
     },
     "metadata": {
      "needs_background": "light"
     },
     "output_type": "display_data"
    }
   ],
   "source": [
    "import matplotlib.pyplot as plt\n",
    "\n",
    "plt.plot(H.history['accuracy'], label='accuracy')\n",
    "plt.plot(H.history['loss'], label = 'loss')\n",
    "plt.xlabel('Epoch')\n",
    "plt.ylabel('Accuracy')\n",
    "\n",
    "test_loss, test_acc = model.evaluate(X_test,  y_test, verbose=2)"
   ]
  },
  {
   "cell_type": "markdown",
   "id": "b824b964",
   "metadata": {},
   "source": [
    "Task 3 https://sites.google.com/eng.ucsd.edu/ucsdbookgraph/reviews?pli=1#h.p_bfIevyGdJprA"
   ]
  },
  {
   "cell_type": "code",
   "execution_count": 6,
   "id": "8fc7a353",
   "metadata": {},
   "outputs": [],
   "source": [
    "import json\n",
    "raw = []\n",
    "for line in open('goodreads_reviews_spoiler.json', 'r'):\n",
    "    raw.append(json.loads(line))"
   ]
  },
  {
   "cell_type": "code",
   "execution_count": 7,
   "id": "af4a0d22",
   "metadata": {},
   "outputs": [],
   "source": [
    "df = []\n",
    "for book in raw:\n",
    "    for review in book['review_sentences']:\n",
    "        df.append(review)\n",
    "del raw"
   ]
  },
  {
   "cell_type": "code",
   "execution_count": 8,
   "id": "a371a89f",
   "metadata": {},
   "outputs": [],
   "source": [
    "df = pd.DataFrame(df[:50000], columns = ['Is_spoiler', 'Review'])"
   ]
  },
  {
   "cell_type": "code",
   "execution_count": 9,
   "id": "6f17743c",
   "metadata": {},
   "outputs": [],
   "source": [
    "from sklearn.model_selection import train_test_split\n",
    "\n",
    "X = df.drop(['Is_spoiler'], axis = 1)\n",
    "y = df['Is_spoiler']\n",
    "\n",
    "X_train, X_test, y_train, y_test = train_test_split(X, y, test_size=0.20)"
   ]
  },
  {
   "cell_type": "code",
   "execution_count": 10,
   "id": "e40c2444",
   "metadata": {},
   "outputs": [],
   "source": [
    "from sklearn.feature_extraction.text import CountVectorizer\n",
    "vectorizer = CountVectorizer(stop_words='english')\n",
    "X_train_counts = vectorizer.fit_transform(X_train.Review)"
   ]
  },
  {
   "cell_type": "code",
   "execution_count": 20,
   "id": "4cb593db",
   "metadata": {},
   "outputs": [
    {
     "ename": "MemoryError",
     "evalue": "Unable to allocate 6.33 GiB for an array with shape (40000, 21252) and data type float64",
     "output_type": "error",
     "traceback": [
      "\u001b[1;31m---------------------------------------------------------------------------\u001b[0m",
      "\u001b[1;31mMemoryError\u001b[0m                               Traceback (most recent call last)",
      "Input \u001b[1;32mIn [20]\u001b[0m, in \u001b[0;36m<module>\u001b[1;34m\u001b[0m\n\u001b[0;32m      1\u001b[0m \u001b[38;5;28;01mfrom\u001b[39;00m \u001b[38;5;21;01msklearn\u001b[39;00m\u001b[38;5;21;01m.\u001b[39;00m\u001b[38;5;21;01mfeature_extraction\u001b[39;00m\u001b[38;5;21;01m.\u001b[39;00m\u001b[38;5;21;01mtext\u001b[39;00m \u001b[38;5;28;01mimport\u001b[39;00m TfidfTransformer\n\u001b[0;32m      2\u001b[0m tfidf_transformer \u001b[38;5;241m=\u001b[39m TfidfTransformer()\n\u001b[1;32m----> 3\u001b[0m X_train_tfidf \u001b[38;5;241m=\u001b[39m \u001b[43mtfidf_transformer\u001b[49m\u001b[38;5;241;43m.\u001b[39;49m\u001b[43mfit_transform\u001b[49m\u001b[43m(\u001b[49m\u001b[43mX_train_counts\u001b[49m\u001b[43m)\u001b[49m\n\u001b[0;32m      4\u001b[0m X_train_tfidf\u001b[38;5;241m.\u001b[39mshape\n",
      "File \u001b[1;32m~\\AppData\\Local\\Programs\\Python\\Python310\\lib\\site-packages\\sklearn\\base.py:852\u001b[0m, in \u001b[0;36mTransformerMixin.fit_transform\u001b[1;34m(self, X, y, **fit_params)\u001b[0m\n\u001b[0;32m    848\u001b[0m \u001b[38;5;66;03m# non-optimized default implementation; override when a better\u001b[39;00m\n\u001b[0;32m    849\u001b[0m \u001b[38;5;66;03m# method is possible for a given clustering algorithm\u001b[39;00m\n\u001b[0;32m    850\u001b[0m \u001b[38;5;28;01mif\u001b[39;00m y \u001b[38;5;129;01mis\u001b[39;00m \u001b[38;5;28;01mNone\u001b[39;00m:\n\u001b[0;32m    851\u001b[0m     \u001b[38;5;66;03m# fit method of arity 1 (unsupervised transformation)\u001b[39;00m\n\u001b[1;32m--> 852\u001b[0m     \u001b[38;5;28;01mreturn\u001b[39;00m \u001b[38;5;28;43mself\u001b[39;49m\u001b[38;5;241;43m.\u001b[39;49m\u001b[43mfit\u001b[49m\u001b[43m(\u001b[49m\u001b[43mX\u001b[49m\u001b[43m,\u001b[49m\u001b[43m \u001b[49m\u001b[38;5;241;43m*\u001b[39;49m\u001b[38;5;241;43m*\u001b[39;49m\u001b[43mfit_params\u001b[49m\u001b[43m)\u001b[49m\u001b[38;5;241;43m.\u001b[39;49m\u001b[43mtransform\u001b[49m\u001b[43m(\u001b[49m\u001b[43mX\u001b[49m\u001b[43m)\u001b[49m\n\u001b[0;32m    853\u001b[0m \u001b[38;5;28;01melse\u001b[39;00m:\n\u001b[0;32m    854\u001b[0m     \u001b[38;5;66;03m# fit method of arity 2 (supervised transformation)\u001b[39;00m\n\u001b[0;32m    855\u001b[0m     \u001b[38;5;28;01mreturn\u001b[39;00m \u001b[38;5;28mself\u001b[39m\u001b[38;5;241m.\u001b[39mfit(X, y, \u001b[38;5;241m*\u001b[39m\u001b[38;5;241m*\u001b[39mfit_params)\u001b[38;5;241m.\u001b[39mtransform(X)\n",
      "File \u001b[1;32m~\\AppData\\Local\\Programs\\Python\\Python310\\lib\\site-packages\\sklearn\\feature_extraction\\text.py:1660\u001b[0m, in \u001b[0;36mTfidfTransformer.transform\u001b[1;34m(self, X, copy)\u001b[0m\n\u001b[0;32m   1643\u001b[0m \u001b[38;5;28;01mdef\u001b[39;00m \u001b[38;5;21mtransform\u001b[39m(\u001b[38;5;28mself\u001b[39m, X, copy\u001b[38;5;241m=\u001b[39m\u001b[38;5;28;01mTrue\u001b[39;00m):\n\u001b[0;32m   1644\u001b[0m     \u001b[38;5;124;03m\"\"\"Transform a count matrix to a tf or tf-idf representation.\u001b[39;00m\n\u001b[0;32m   1645\u001b[0m \n\u001b[0;32m   1646\u001b[0m \u001b[38;5;124;03m    Parameters\u001b[39;00m\n\u001b[1;32m   (...)\u001b[0m\n\u001b[0;32m   1658\u001b[0m \u001b[38;5;124;03m        Tf-idf-weighted document-term matrix.\u001b[39;00m\n\u001b[0;32m   1659\u001b[0m \u001b[38;5;124;03m    \"\"\"\u001b[39;00m\n\u001b[1;32m-> 1660\u001b[0m     X \u001b[38;5;241m=\u001b[39m \u001b[38;5;28;43mself\u001b[39;49m\u001b[38;5;241;43m.\u001b[39;49m\u001b[43m_validate_data\u001b[49m\u001b[43m(\u001b[49m\n\u001b[0;32m   1661\u001b[0m \u001b[43m        \u001b[49m\u001b[43mX\u001b[49m\u001b[43m,\u001b[49m\u001b[43m \u001b[49m\u001b[43maccept_sparse\u001b[49m\u001b[38;5;241;43m=\u001b[39;49m\u001b[38;5;124;43m\"\u001b[39;49m\u001b[38;5;124;43mcsr\u001b[39;49m\u001b[38;5;124;43m\"\u001b[39;49m\u001b[43m,\u001b[49m\u001b[43m \u001b[49m\u001b[43mdtype\u001b[49m\u001b[38;5;241;43m=\u001b[39;49m\u001b[43mFLOAT_DTYPES\u001b[49m\u001b[43m,\u001b[49m\u001b[43m \u001b[49m\u001b[43mcopy\u001b[49m\u001b[38;5;241;43m=\u001b[39;49m\u001b[43mcopy\u001b[49m\u001b[43m,\u001b[49m\u001b[43m \u001b[49m\u001b[43mreset\u001b[49m\u001b[38;5;241;43m=\u001b[39;49m\u001b[38;5;28;43;01mFalse\u001b[39;49;00m\n\u001b[0;32m   1662\u001b[0m \u001b[43m    \u001b[49m\u001b[43m)\u001b[49m\n\u001b[0;32m   1663\u001b[0m     \u001b[38;5;28;01mif\u001b[39;00m \u001b[38;5;129;01mnot\u001b[39;00m sp\u001b[38;5;241m.\u001b[39missparse(X):\n\u001b[0;32m   1664\u001b[0m         X \u001b[38;5;241m=\u001b[39m sp\u001b[38;5;241m.\u001b[39mcsr_matrix(X, dtype\u001b[38;5;241m=\u001b[39mnp\u001b[38;5;241m.\u001b[39mfloat64)\n",
      "File \u001b[1;32m~\\AppData\\Local\\Programs\\Python\\Python310\\lib\\site-packages\\sklearn\\base.py:566\u001b[0m, in \u001b[0;36mBaseEstimator._validate_data\u001b[1;34m(self, X, y, reset, validate_separately, **check_params)\u001b[0m\n\u001b[0;32m    564\u001b[0m     \u001b[38;5;28;01mraise\u001b[39;00m \u001b[38;5;167;01mValueError\u001b[39;00m(\u001b[38;5;124m\"\u001b[39m\u001b[38;5;124mValidation should be done on X, y or both.\u001b[39m\u001b[38;5;124m\"\u001b[39m)\n\u001b[0;32m    565\u001b[0m \u001b[38;5;28;01melif\u001b[39;00m \u001b[38;5;129;01mnot\u001b[39;00m no_val_X \u001b[38;5;129;01mand\u001b[39;00m no_val_y:\n\u001b[1;32m--> 566\u001b[0m     X \u001b[38;5;241m=\u001b[39m check_array(X, \u001b[38;5;241m*\u001b[39m\u001b[38;5;241m*\u001b[39mcheck_params)\n\u001b[0;32m    567\u001b[0m     out \u001b[38;5;241m=\u001b[39m X\n\u001b[0;32m    568\u001b[0m \u001b[38;5;28;01melif\u001b[39;00m no_val_X \u001b[38;5;129;01mand\u001b[39;00m \u001b[38;5;129;01mnot\u001b[39;00m no_val_y:\n",
      "File \u001b[1;32m~\\AppData\\Local\\Programs\\Python\\Python310\\lib\\site-packages\\sklearn\\utils\\validation.py:746\u001b[0m, in \u001b[0;36mcheck_array\u001b[1;34m(array, accept_sparse, accept_large_sparse, dtype, order, copy, force_all_finite, ensure_2d, allow_nd, ensure_min_samples, ensure_min_features, estimator)\u001b[0m\n\u001b[0;32m    744\u001b[0m         array \u001b[38;5;241m=\u001b[39m array\u001b[38;5;241m.\u001b[39mastype(dtype, casting\u001b[38;5;241m=\u001b[39m\u001b[38;5;124m\"\u001b[39m\u001b[38;5;124munsafe\u001b[39m\u001b[38;5;124m\"\u001b[39m, copy\u001b[38;5;241m=\u001b[39m\u001b[38;5;28;01mFalse\u001b[39;00m)\n\u001b[0;32m    745\u001b[0m     \u001b[38;5;28;01melse\u001b[39;00m:\n\u001b[1;32m--> 746\u001b[0m         array \u001b[38;5;241m=\u001b[39m \u001b[43mnp\u001b[49m\u001b[38;5;241;43m.\u001b[39;49m\u001b[43masarray\u001b[49m\u001b[43m(\u001b[49m\u001b[43marray\u001b[49m\u001b[43m,\u001b[49m\u001b[43m \u001b[49m\u001b[43morder\u001b[49m\u001b[38;5;241;43m=\u001b[39;49m\u001b[43morder\u001b[49m\u001b[43m,\u001b[49m\u001b[43m \u001b[49m\u001b[43mdtype\u001b[49m\u001b[38;5;241;43m=\u001b[39;49m\u001b[43mdtype\u001b[49m\u001b[43m)\u001b[49m\n\u001b[0;32m    747\u001b[0m \u001b[38;5;28;01mexcept\u001b[39;00m ComplexWarning \u001b[38;5;28;01mas\u001b[39;00m complex_warning:\n\u001b[0;32m    748\u001b[0m     \u001b[38;5;28;01mraise\u001b[39;00m \u001b[38;5;167;01mValueError\u001b[39;00m(\n\u001b[0;32m    749\u001b[0m         \u001b[38;5;124m\"\u001b[39m\u001b[38;5;124mComplex data not supported\u001b[39m\u001b[38;5;130;01m\\n\u001b[39;00m\u001b[38;5;132;01m{}\u001b[39;00m\u001b[38;5;130;01m\\n\u001b[39;00m\u001b[38;5;124m\"\u001b[39m\u001b[38;5;241m.\u001b[39mformat(array)\n\u001b[0;32m    750\u001b[0m     ) \u001b[38;5;28;01mfrom\u001b[39;00m \u001b[38;5;21;01mcomplex_warning\u001b[39;00m\n",
      "\u001b[1;31mMemoryError\u001b[0m: Unable to allocate 6.33 GiB for an array with shape (40000, 21252) and data type float64"
     ]
    }
   ],
   "source": [
    "from sklearn.feature_extraction.text import TfidfTransformer\n",
    "tfidf_transformer = TfidfTransformer()\n",
    "X_train_tfidf = tfidf_transformer.fit_transform(X_train_counts)\n",
    "X_train_tfidf.shape"
   ]
  },
  {
   "cell_type": "code",
   "execution_count": 11,
   "id": "bf850241",
   "metadata": {},
   "outputs": [],
   "source": [
    "X_test_counts = vectorizer.transform(X_test.Review)\n",
    "X_test_tfidf = "
   ]
  },
  {
   "cell_type": "code",
   "execution_count": 12,
   "id": "a74211c5",
   "metadata": {},
   "outputs": [
    {
     "data": {
      "text/plain": [
       "(40000, 21252)"
      ]
     },
     "execution_count": 12,
     "metadata": {},
     "output_type": "execute_result"
    }
   ],
   "source": [
    "X_train_counts.shape"
   ]
  },
  {
   "cell_type": "code",
   "execution_count": 13,
   "id": "1762a473",
   "metadata": {},
   "outputs": [],
   "source": [
    "X_train_counts = X_train_counts.toarray()\n",
    "X_test_counts = X_test_counts.toarray()"
   ]
  },
  {
   "cell_type": "code",
   "execution_count": 14,
   "id": "0f9c4f08",
   "metadata": {},
   "outputs": [],
   "source": [
    "from keras.layers import Embedding, SimpleRNN\n",
    "model = Sequential()\n",
    "model.add(Embedding(input_dim=21252, output_dim=64))\n",
    "model.add(SimpleRNN(128))\n",
    "model.add(Dense(10))"
   ]
  },
  {
   "cell_type": "code",
   "execution_count": 21,
   "id": "b8134ea2",
   "metadata": {},
   "outputs": [
    {
     "name": "stdout",
     "output_type": "stream",
     "text": [
      "625/625 [==============================] - 62843s 101s/step - loss: 0.1787 - accuracy: 0.9890 - val_loss: 0.1918 - val_accuracy: 0.9881\n"
     ]
    },
    {
     "data": {
      "text/plain": [
       "<keras.callbacks.History at 0x1a1b6d07610>"
      ]
     },
     "execution_count": 21,
     "metadata": {},
     "output_type": "execute_result"
    }
   ],
   "source": [
    "model.compile(\n",
    "    loss=SparseCategoricalCrossentropy(from_logits=False),\n",
    "    optimizer=\"sgd\",\n",
    "    metrics=[\"accuracy\"],\n",
    ")\n",
    "\n",
    "\n",
    "model.fit( \n",
    "    X_train_counts, y_train, validation_data=(X_test_counts, y_test), batch_size=64, epochs=1\n",
    ")"
   ]
  },
  {
   "cell_type": "code",
   "execution_count": null,
   "id": "09cf2823",
   "metadata": {},
   "outputs": [],
   "source": []
  }
 ],
 "metadata": {
  "kernelspec": {
   "display_name": "Python 3 (ipykernel)",
   "language": "python",
   "name": "python3"
  },
  "language_info": {
   "codemirror_mode": {
    "name": "ipython",
    "version": 3
   },
   "file_extension": ".py",
   "mimetype": "text/x-python",
   "name": "python",
   "nbconvert_exporter": "python",
   "pygments_lexer": "ipython3",
   "version": "3.10.1"
  }
 },
 "nbformat": 4,
 "nbformat_minor": 5
}
